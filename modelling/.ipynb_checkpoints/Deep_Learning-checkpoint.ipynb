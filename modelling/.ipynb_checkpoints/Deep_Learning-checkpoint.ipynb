{
 "cells": [
  {
   "cell_type": "code",
   "execution_count": 165,
   "metadata": {},
   "outputs": [
    {
     "name": "stdout",
     "output_type": "stream",
     "text": [
      "\u001b[33mYou are using pip version 19.0.1, however version 19.0.3 is available.\r\n",
      "You should consider upgrading via the 'pip install --upgrade pip' command.\u001b[0m\r\n"
     ]
    }
   ],
   "source": [
    "!pip install -q seaborn"
   ]
  },
  {
   "cell_type": "code",
   "execution_count": 166,
   "metadata": {},
   "outputs": [
    {
     "name": "stdout",
     "output_type": "stream",
     "text": [
      "1.11.0\n"
     ]
    }
   ],
   "source": [
    "from __future__ import absolute_import, division, print_function\n",
    "\n",
    "import pathlib\n",
    "\n",
    "import matplotlib.pyplot as plt\n",
    "import pandas as pd\n",
    "import seaborn as sns\n",
    "\n",
    "import tensorflow as tf\n",
    "from tensorflow import keras\n",
    "from tensorflow.keras import layers\n",
    "\n",
    "import numpy as np\n",
    "import math\n",
    "import csv\n",
    "import collections\n",
    "from collections import defaultdict\n",
    "import pandas as pd\n",
    "import scipy as scipy\n",
    "\n",
    "print(tf.__version__)"
   ]
  },
  {
   "cell_type": "code",
   "execution_count": 168,
   "metadata": {},
   "outputs": [],
   "source": [
    "#df = df[np.isfinite(df['BlkCarbon'])]\n",
    "df = pd.read_csv('data.csv')\n",
    "raw_dataset = df[['ExpRL.3000', 'ExpRL.50', 'Long', 'CarPD.50', 'ComT.500', 'ResT.50', 'MixT.500', 'Eat.500','BlkCarbon']]\n",
    "# Note that 'Lands.500' is not in dataset"
   ]
  },
  {
   "cell_type": "code",
   "execution_count": 169,
   "metadata": {},
   "outputs": [],
   "source": [
    "#column_names = ['ExpRL.3000', 'ExpRL.50', 'Long', 'CarPD.50', 'ComT.500', 'ResT.50', 'MixT.500', 'Eat.500', 'BlkCarbon']\n",
    "#raw_dataset = pd.read_csv('data.csv', names=column_names)"
   ]
  },
  {
   "cell_type": "code",
   "execution_count": 170,
   "metadata": {},
   "outputs": [
    {
     "data": {
      "text/html": [
       "<div>\n",
       "<style scoped>\n",
       "    .dataframe tbody tr th:only-of-type {\n",
       "        vertical-align: middle;\n",
       "    }\n",
       "\n",
       "    .dataframe tbody tr th {\n",
       "        vertical-align: top;\n",
       "    }\n",
       "\n",
       "    .dataframe thead th {\n",
       "        text-align: right;\n",
       "    }\n",
       "</style>\n",
       "<table border=\"1\" class=\"dataframe\">\n",
       "  <thead>\n",
       "    <tr style=\"text-align: right;\">\n",
       "      <th></th>\n",
       "      <th>ExpRL.3000</th>\n",
       "      <th>ExpRL.50</th>\n",
       "      <th>Long</th>\n",
       "      <th>CarPD.50</th>\n",
       "      <th>ComT.500</th>\n",
       "      <th>ResT.50</th>\n",
       "      <th>MixT.500</th>\n",
       "      <th>Eat.500</th>\n",
       "      <th>BlkCarbon</th>\n",
       "    </tr>\n",
       "  </thead>\n",
       "  <tbody>\n",
       "    <tr>\n",
       "      <th>95</th>\n",
       "      <td>34480.43</td>\n",
       "      <td>172.932470</td>\n",
       "      <td>114.052162</td>\n",
       "      <td>0.0</td>\n",
       "      <td>0.0</td>\n",
       "      <td>0.000000</td>\n",
       "      <td>0.0</td>\n",
       "      <td>3</td>\n",
       "      <td>21.751724</td>\n",
       "    </tr>\n",
       "    <tr>\n",
       "      <th>96</th>\n",
       "      <td>26612.41</td>\n",
       "      <td>97.284558</td>\n",
       "      <td>114.020889</td>\n",
       "      <td>0.0</td>\n",
       "      <td>0.0</td>\n",
       "      <td>4221.399925</td>\n",
       "      <td>0.0</td>\n",
       "      <td>5</td>\n",
       "      <td>NaN</td>\n",
       "    </tr>\n",
       "    <tr>\n",
       "      <th>97</th>\n",
       "      <td>35799.53</td>\n",
       "      <td>139.608542</td>\n",
       "      <td>114.025269</td>\n",
       "      <td>0.0</td>\n",
       "      <td>0.0</td>\n",
       "      <td>0.000000</td>\n",
       "      <td>0.0</td>\n",
       "      <td>6</td>\n",
       "      <td>19.707573</td>\n",
       "    </tr>\n",
       "    <tr>\n",
       "      <th>98</th>\n",
       "      <td>39637.41</td>\n",
       "      <td>0.000000</td>\n",
       "      <td>114.029350</td>\n",
       "      <td>0.0</td>\n",
       "      <td>0.0</td>\n",
       "      <td>4001.292286</td>\n",
       "      <td>0.0</td>\n",
       "      <td>60</td>\n",
       "      <td>12.119663</td>\n",
       "    </tr>\n",
       "    <tr>\n",
       "      <th>99</th>\n",
       "      <td>39830.98</td>\n",
       "      <td>0.000000</td>\n",
       "      <td>114.029335</td>\n",
       "      <td>0.0</td>\n",
       "      <td>0.0</td>\n",
       "      <td>3614.959725</td>\n",
       "      <td>0.0</td>\n",
       "      <td>60</td>\n",
       "      <td>13.258188</td>\n",
       "    </tr>\n",
       "  </tbody>\n",
       "</table>\n",
       "</div>"
      ],
      "text/plain": [
       "    ExpRL.3000    ExpRL.50        Long  CarPD.50  ComT.500      ResT.50  \\\n",
       "95    34480.43  172.932470  114.052162       0.0       0.0     0.000000   \n",
       "96    26612.41   97.284558  114.020889       0.0       0.0  4221.399925   \n",
       "97    35799.53  139.608542  114.025269       0.0       0.0     0.000000   \n",
       "98    39637.41    0.000000  114.029350       0.0       0.0  4001.292286   \n",
       "99    39830.98    0.000000  114.029335       0.0       0.0  3614.959725   \n",
       "\n",
       "    MixT.500  Eat.500  BlkCarbon  \n",
       "95       0.0        3  21.751724  \n",
       "96       0.0        5        NaN  \n",
       "97       0.0        6  19.707573  \n",
       "98       0.0       60  12.119663  \n",
       "99       0.0       60  13.258188  "
      ]
     },
     "execution_count": 170,
     "metadata": {},
     "output_type": "execute_result"
    }
   ],
   "source": [
    "dataset = raw_dataset.copy()\n",
    "dataset.tail()"
   ]
  },
  {
   "cell_type": "markdown",
   "metadata": {},
   "source": [
    "## Clean the data\n",
    "\n",
    "The dataset contains a few unknown values."
   ]
  },
  {
   "cell_type": "code",
   "execution_count": 171,
   "metadata": {},
   "outputs": [
    {
     "data": {
      "text/plain": [
       "ExpRL.3000     0\n",
       "ExpRL.50       0\n",
       "Long           0\n",
       "CarPD.50       0\n",
       "ComT.500       0\n",
       "ResT.50        0\n",
       "MixT.500       0\n",
       "Eat.500        0\n",
       "BlkCarbon     18\n",
       "dtype: int64"
      ]
     },
     "execution_count": 171,
     "metadata": {},
     "output_type": "execute_result"
    }
   ],
   "source": [
    "dataset.isna().sum()"
   ]
  },
  {
   "cell_type": "code",
   "execution_count": 172,
   "metadata": {},
   "outputs": [
    {
     "data": {
      "text/plain": [
       "ExpRL.3000    0\n",
       "ExpRL.50      0\n",
       "Long          0\n",
       "CarPD.50      0\n",
       "ComT.500      0\n",
       "ResT.50       0\n",
       "MixT.500      0\n",
       "Eat.500       0\n",
       "BlkCarbon     0\n",
       "dtype: int64"
      ]
     },
     "execution_count": 172,
     "metadata": {},
     "output_type": "execute_result"
    }
   ],
   "source": [
    "dataset = dataset.dropna()\n",
    "dataset.isna().sum()"
   ]
  },
  {
   "cell_type": "code",
   "execution_count": 173,
   "metadata": {},
   "outputs": [],
   "source": [
    "train_dataset = dataset.sample(frac=0.8,random_state=0)\n",
    "#print(len(train_dataset.index))\n",
    "test_dataset = dataset.drop(train_dataset.index)"
   ]
  },
  {
   "cell_type": "markdown",
   "metadata": {},
   "source": [
    "### Inspect Data"
   ]
  },
  {
   "cell_type": "code",
   "execution_count": 174,
   "metadata": {
    "scrolled": true
   },
   "outputs": [
    {
     "name": "stderr",
     "output_type": "stream",
     "text": [
      "/Users/gauravbang/anaconda3/lib/python3.6/site-packages/scipy/stats/stats.py:1713: FutureWarning: Using a non-tuple sequence for multidimensional indexing is deprecated; use `arr[tuple(seq)]` instead of `arr[seq]`. In the future this will be interpreted as an array index, `arr[np.array(seq)]`, which will result either in an error or a different result.\n",
      "  return np.add.reduce(sorted[indexer] * weights, axis=axis) / sumval\n"
     ]
    },
    {
     "data": {
      "text/plain": [
       "<seaborn.axisgrid.PairGrid at 0x1a2eb83eb8>"
      ]
     },
     "execution_count": 174,
     "metadata": {},
     "output_type": "execute_result"
    },
    {
     "data": {
      "image/png": "[encoded data removed]",
      "text/plain": [
       "<Figure size 720x720 with 20 Axes>"
      ]
     },
     "metadata": {},
     "output_type": "display_data"
    }
   ],
   "source": [
    "sns.pairplot(train_dataset[[\"BlkCarbon\", \"ExpRL.3000\", \"CarPD.50\", \"Eat.500\"]], diag_kind=\"kde\")"
   ]
  },
  {
   "cell_type": "code",
   "execution_count": 147,
   "metadata": {},
   "outputs": [
    {
     "data": {
      "text/html": [
       "<div>\n",
       "<style scoped>\n",
       "    .dataframe tbody tr th:only-of-type {\n",
       "        vertical-align: middle;\n",
       "    }\n",
       "\n",
       "    .dataframe tbody tr th {\n",
       "        vertical-align: top;\n",
       "    }\n",
       "\n",
       "    .dataframe thead th {\n",
       "        text-align: right;\n",
       "    }\n",
       "</style>\n",
       "<table border=\"1\" class=\"dataframe\">\n",
       "  <thead>\n",
       "    <tr style=\"text-align: right;\">\n",
       "      <th></th>\n",
       "      <th>count</th>\n",
       "      <th>mean</th>\n",
       "      <th>std</th>\n",
       "      <th>min</th>\n",
       "      <th>25%</th>\n",
       "      <th>50%</th>\n",
       "      <th>75%</th>\n",
       "      <th>max</th>\n",
       "    </tr>\n",
       "  </thead>\n",
       "  <tbody>\n",
       "    <tr>\n",
       "      <th>ExpRL.3000</th>\n",
       "      <td>66.0</td>\n",
       "      <td>23599.027121</td>\n",
       "      <td>17353.613436</td>\n",
       "      <td>0.000000</td>\n",
       "      <td>13192.97000</td>\n",
       "      <td>18536.970000</td>\n",
       "      <td>39563.050000</td>\n",
       "      <td>65181.070000</td>\n",
       "    </tr>\n",
       "    <tr>\n",
       "      <th>ExpRL.50</th>\n",
       "      <td>66.0</td>\n",
       "      <td>20.052371</td>\n",
       "      <td>55.512965</td>\n",
       "      <td>0.000000</td>\n",
       "      <td>0.00000</td>\n",
       "      <td>0.000000</td>\n",
       "      <td>0.000000</td>\n",
       "      <td>275.703914</td>\n",
       "    </tr>\n",
       "    <tr>\n",
       "      <th>Long</th>\n",
       "      <td>66.0</td>\n",
       "      <td>114.156902</td>\n",
       "      <td>0.066767</td>\n",
       "      <td>113.937431</td>\n",
       "      <td>114.14209</td>\n",
       "      <td>114.169782</td>\n",
       "      <td>114.193251</td>\n",
       "      <td>114.273308</td>\n",
       "    </tr>\n",
       "    <tr>\n",
       "      <th>CarPD.50</th>\n",
       "      <td>66.0</td>\n",
       "      <td>0.000017</td>\n",
       "      <td>0.000049</td>\n",
       "      <td>0.000000</td>\n",
       "      <td>0.00000</td>\n",
       "      <td>0.000000</td>\n",
       "      <td>0.000000</td>\n",
       "      <td>0.000255</td>\n",
       "    </tr>\n",
       "    <tr>\n",
       "      <th>ComT.500</th>\n",
       "      <td>66.0</td>\n",
       "      <td>20136.614445</td>\n",
       "      <td>42314.700824</td>\n",
       "      <td>0.000000</td>\n",
       "      <td>0.00000</td>\n",
       "      <td>0.000000</td>\n",
       "      <td>16011.695428</td>\n",
       "      <td>177015.076400</td>\n",
       "    </tr>\n",
       "    <tr>\n",
       "      <th>ResT.50</th>\n",
       "      <td>66.0</td>\n",
       "      <td>1459.549104</td>\n",
       "      <td>2033.152098</td>\n",
       "      <td>0.000000</td>\n",
       "      <td>0.00000</td>\n",
       "      <td>0.000000</td>\n",
       "      <td>3182.666044</td>\n",
       "      <td>7521.249927</td>\n",
       "    </tr>\n",
       "    <tr>\n",
       "      <th>MixT.500</th>\n",
       "      <td>66.0</td>\n",
       "      <td>42498.727120</td>\n",
       "      <td>66607.552449</td>\n",
       "      <td>0.000000</td>\n",
       "      <td>0.00000</td>\n",
       "      <td>0.000000</td>\n",
       "      <td>100379.598118</td>\n",
       "      <td>226261.599900</td>\n",
       "    </tr>\n",
       "    <tr>\n",
       "      <th>Eat.500</th>\n",
       "      <td>66.0</td>\n",
       "      <td>49.318182</td>\n",
       "      <td>21.285719</td>\n",
       "      <td>0.000000</td>\n",
       "      <td>60.00000</td>\n",
       "      <td>60.000000</td>\n",
       "      <td>60.000000</td>\n",
       "      <td>60.000000</td>\n",
       "    </tr>\n",
       "  </tbody>\n",
       "</table>\n",
       "</div>"
      ],
      "text/plain": [
       "            count          mean           std         min          25%  \\\n",
       "ExpRL.3000   66.0  23599.027121  17353.613436    0.000000  13192.97000   \n",
       "ExpRL.50     66.0     20.052371     55.512965    0.000000      0.00000   \n",
       "Long         66.0    114.156902      0.066767  113.937431    114.14209   \n",
       "CarPD.50     66.0      0.000017      0.000049    0.000000      0.00000   \n",
       "ComT.500     66.0  20136.614445  42314.700824    0.000000      0.00000   \n",
       "ResT.50      66.0   1459.549104   2033.152098    0.000000      0.00000   \n",
       "MixT.500     66.0  42498.727120  66607.552449    0.000000      0.00000   \n",
       "Eat.500      66.0     49.318182     21.285719    0.000000     60.00000   \n",
       "\n",
       "                     50%            75%            max  \n",
       "ExpRL.3000  18536.970000   39563.050000   65181.070000  \n",
       "ExpRL.50        0.000000       0.000000     275.703914  \n",
       "Long          114.169782     114.193251     114.273308  \n",
       "CarPD.50        0.000000       0.000000       0.000255  \n",
       "ComT.500        0.000000   16011.695428  177015.076400  \n",
       "ResT.50         0.000000    3182.666044    7521.249927  \n",
       "MixT.500        0.000000  100379.598118  226261.599900  \n",
       "Eat.500        60.000000      60.000000      60.000000  "
      ]
     },
     "execution_count": 147,
     "metadata": {},
     "output_type": "execute_result"
    }
   ],
   "source": [
    "train_stats = train_dataset.describe()\n",
    "train_stats.pop(\"BlkCarbon\")\n",
    "train_stats = train_stats.transpose()\n",
    "train_stats"
   ]
  },
  {
   "cell_type": "markdown",
   "metadata": {},
   "source": [
    "### Split features from labels\n",
    "\n",
    "Separate the target value, or \"label\", from the features. This label is the value that you will train the model to predict."
   ]
  },
  {
   "cell_type": "code",
   "execution_count": 148,
   "metadata": {},
   "outputs": [],
   "source": [
    "train_labels = train_dataset.pop('BlkCarbon')\n",
    "test_labels = test_dataset.pop('BlkCarbon')"
   ]
  },
  {
   "cell_type": "markdown",
   "metadata": {},
   "source": [
    "### Normalize the data\n",
    "\n",
    "Since feature ranges are different, we need to normalize the data.\n",
    "When numeric input data features have values with different ranges, each feature should be scaled independently to the same range."
   ]
  },
  {
   "cell_type": "code",
   "execution_count": 149,
   "metadata": {},
   "outputs": [],
   "source": [
    "def norm(x):\n",
    "  return (x - train_stats['mean']) / train_stats['std']\n",
    "normed_train_data = norm(train_dataset)\n",
    "normed_test_data = norm(test_dataset)"
   ]
  },
  {
   "cell_type": "markdown",
   "metadata": {},
   "source": [
    "# Modelling\n"
   ]
  },
  {
   "cell_type": "markdown",
   "metadata": {},
   "source": [
    "### Build the model\n",
    "\n",
    "Let's build our model. Here, we'll use a Sequential model with two densely connected hidden layers, and an output layer that returns a single, continuous value. The model building steps are wrapped in a function, build_model, since we'll create a second model, later on.\n",
    "\n",
    "If there is not much training data, one technique is to prefer a small network with few hidden layers to avoid overfitting.\n",
    "Early stopping is a useful technique to prevent overfitting.\n",
    "\n",
    "Mean Squared Error (MSE) is a common loss function used for regression problems (different loss functions are used for classification problems)"
   ]
  },
  {
   "cell_type": "code",
   "execution_count": 150,
   "metadata": {},
   "outputs": [],
   "source": [
    "def build_model():\n",
    "  model = keras.Sequential([\n",
    "    layers.Dense(64, activation=tf.nn.relu, input_shape=[len(train_dataset.keys())]),\n",
    "    layers.Dense(64, activation=tf.nn.relu),\n",
    "    layers.Dense(1)\n",
    "  ])\n",
    "\n",
    "  optimizer = tf.keras.optimizers.RMSprop(0.001)\n",
    "\n",
    "  model.compile(loss='mean_squared_error',\n",
    "                optimizer=optimizer,\n",
    "                metrics=['mean_absolute_error', 'mean_squared_error'])\n",
    "  return model"
   ]
  },
  {
   "cell_type": "code",
   "execution_count": 151,
   "metadata": {},
   "outputs": [],
   "source": [
    "model = build_model()\n",
    "#print(len(train_dataset.keys()))"
   ]
  },
  {
   "cell_type": "markdown",
   "metadata": {},
   "source": [
    "### Inspect the model"
   ]
  },
  {
   "cell_type": "code",
   "execution_count": 152,
   "metadata": {},
   "outputs": [
    {
     "name": "stdout",
     "output_type": "stream",
     "text": [
      "_________________________________________________________________\n",
      "Layer (type)                 Output Shape              Param #   \n",
      "=================================================================\n",
      "dense_30 (Dense)             (None, 64)                576       \n",
      "_________________________________________________________________\n",
      "dense_31 (Dense)             (None, 64)                4160      \n",
      "_________________________________________________________________\n",
      "dense_32 (Dense)             (None, 1)                 65        \n",
      "=================================================================\n",
      "Total params: 4,801\n",
      "Trainable params: 4,801\n",
      "Non-trainable params: 0\n",
      "_________________________________________________________________\n"
     ]
    }
   ],
   "source": [
    "model.summary()"
   ]
  },
  {
   "cell_type": "markdown",
   "metadata": {},
   "source": [
    "Now try out the model. Take a batch of 10 examples from the training data and call model.predict on it."
   ]
  },
  {
   "cell_type": "code",
   "execution_count": 153,
   "metadata": {},
   "outputs": [
    {
     "data": {
      "text/plain": [
       "array([[ 0.25746194],\n",
       "       [ 0.60777473],\n",
       "       [ 0.5172583 ],\n",
       "       [ 0.27919188],\n",
       "       [ 0.03897396],\n",
       "       [ 0.42775986],\n",
       "       [ 0.5512902 ],\n",
       "       [-0.01161801],\n",
       "       [-0.12701207],\n",
       "       [ 0.14993532]], dtype=float32)"
      ]
     },
     "execution_count": 153,
     "metadata": {},
     "output_type": "execute_result"
    }
   ],
   "source": [
    "example_batch = normed_train_data[:10]\n",
    "example_result = model.predict(example_batch)\n",
    "example_result"
   ]
  },
  {
   "cell_type": "markdown",
   "metadata": {},
   "source": [
    "# Train the model\n",
    "\n",
    "Train the model for 1000 epochs, and record the training and validation accuracy in the history object."
   ]
  },
  {
   "cell_type": "code",
   "execution_count": 154,
   "metadata": {},
   "outputs": [
    {
     "name": "stdout",
     "output_type": "stream",
     "text": [
      "\n",
      "....................................................................................................\n",
      "....................................................................................................\n",
      "....................................................................................................\n",
      "....................................................................................................\n",
      "....................................................................................................\n",
      "....................................................................................................\n",
      "....................................................................................................\n",
      "....................................................................................................\n",
      "....................................................................................................\n",
      "...................................................................................................."
     ]
    }
   ],
   "source": [
    "# Display training progress by printing a single dot for each completed epoch\n",
    "class PrintDot(keras.callbacks.Callback):\n",
    "  def on_epoch_end(self, epoch, logs):\n",
    "    if epoch % 100 == 0: print('')\n",
    "    print('.', end='')\n",
    "\n",
    "EPOCHS = 1000\n",
    "\n",
    "history = model.fit(\n",
    "  normed_train_data, train_labels,\n",
    "  epochs=EPOCHS, validation_split = 0.2, verbose=0,\n",
    "  callbacks=[PrintDot()])"
   ]
  },
  {
   "cell_type": "markdown",
   "metadata": {},
   "source": [
    "Visualize the model's training progress using the stats stored in the history object."
   ]
  },
  {
   "cell_type": "code",
   "execution_count": 155,
   "metadata": {},
   "outputs": [
    {
     "data": {
      "text/html": [
       "<div>\n",
       "<style scoped>\n",
       "    .dataframe tbody tr th:only-of-type {\n",
       "        vertical-align: middle;\n",
       "    }\n",
       "\n",
       "    .dataframe tbody tr th {\n",
       "        vertical-align: top;\n",
       "    }\n",
       "\n",
       "    .dataframe thead th {\n",
       "        text-align: right;\n",
       "    }\n",
       "</style>\n",
       "<table border=\"1\" class=\"dataframe\">\n",
       "  <thead>\n",
       "    <tr style=\"text-align: right;\">\n",
       "      <th></th>\n",
       "      <th>val_loss</th>\n",
       "      <th>val_mean_absolute_error</th>\n",
       "      <th>val_mean_squared_error</th>\n",
       "      <th>loss</th>\n",
       "      <th>mean_absolute_error</th>\n",
       "      <th>mean_squared_error</th>\n",
       "      <th>epoch</th>\n",
       "    </tr>\n",
       "  </thead>\n",
       "  <tbody>\n",
       "    <tr>\n",
       "      <th>995</th>\n",
       "      <td>27.960196</td>\n",
       "      <td>4.679330</td>\n",
       "      <td>27.960196</td>\n",
       "      <td>2.692137</td>\n",
       "      <td>0.704693</td>\n",
       "      <td>2.692137</td>\n",
       "      <td>995</td>\n",
       "    </tr>\n",
       "    <tr>\n",
       "      <th>996</th>\n",
       "      <td>27.602369</td>\n",
       "      <td>4.648000</td>\n",
       "      <td>27.602369</td>\n",
       "      <td>2.560875</td>\n",
       "      <td>0.677883</td>\n",
       "      <td>2.560875</td>\n",
       "      <td>996</td>\n",
       "    </tr>\n",
       "    <tr>\n",
       "      <th>997</th>\n",
       "      <td>28.018436</td>\n",
       "      <td>4.661193</td>\n",
       "      <td>28.018436</td>\n",
       "      <td>2.666073</td>\n",
       "      <td>0.644209</td>\n",
       "      <td>2.666073</td>\n",
       "      <td>997</td>\n",
       "    </tr>\n",
       "    <tr>\n",
       "      <th>998</th>\n",
       "      <td>28.029947</td>\n",
       "      <td>4.729630</td>\n",
       "      <td>28.029947</td>\n",
       "      <td>2.548841</td>\n",
       "      <td>0.671907</td>\n",
       "      <td>2.548841</td>\n",
       "      <td>998</td>\n",
       "    </tr>\n",
       "    <tr>\n",
       "      <th>999</th>\n",
       "      <td>25.981165</td>\n",
       "      <td>4.556803</td>\n",
       "      <td>25.981165</td>\n",
       "      <td>2.498173</td>\n",
       "      <td>0.576768</td>\n",
       "      <td>2.498173</td>\n",
       "      <td>999</td>\n",
       "    </tr>\n",
       "  </tbody>\n",
       "</table>\n",
       "</div>"
      ],
      "text/plain": [
       "      val_loss  val_mean_absolute_error  val_mean_squared_error      loss  \\\n",
       "995  27.960196                 4.679330               27.960196  2.692137   \n",
       "996  27.602369                 4.648000               27.602369  2.560875   \n",
       "997  28.018436                 4.661193               28.018436  2.666073   \n",
       "998  28.029947                 4.729630               28.029947  2.548841   \n",
       "999  25.981165                 4.556803               25.981165  2.498173   \n",
       "\n",
       "     mean_absolute_error  mean_squared_error  epoch  \n",
       "995             0.704693            2.692137    995  \n",
       "996             0.677883            2.560875    996  \n",
       "997             0.644209            2.666073    997  \n",
       "998             0.671907            2.548841    998  \n",
       "999             0.576768            2.498173    999  "
      ]
     },
     "execution_count": 155,
     "metadata": {},
     "output_type": "execute_result"
    }
   ],
   "source": [
    "hist = pd.DataFrame(history.history)\n",
    "hist['epoch'] = history.epoch\n",
    "hist.tail()"
   ]
  },
  {
   "cell_type": "code",
   "execution_count": 156,
   "metadata": {},
   "outputs": [
    {
     "data": {
      "image/png": "[encoded data removed]",
      "text/plain": [
       "<Figure size 432x288 with 1 Axes>"
      ]
     },
     "metadata": {},
     "output_type": "display_data"
    },
    {
     "data": {
      "image/png": "[encoded data removed]",
      "text/plain": [
       "<Figure size 432x288 with 1 Axes>"
      ]
     },
     "metadata": {},
     "output_type": "display_data"
    }
   ],
   "source": [
    "def plot_history(history):\n",
    "  hist = pd.DataFrame(history.history)\n",
    "  hist['epoch'] = history.epoch\n",
    "  \n",
    "  plt.figure()\n",
    "  plt.xlabel('Epoch')\n",
    "  plt.ylabel('Mean Abs Error [BlkCarbon]')\n",
    "  plt.plot(hist['epoch'], hist['mean_absolute_error'],\n",
    "           label='Train Error')\n",
    "  plt.plot(hist['epoch'], hist['val_mean_absolute_error'],\n",
    "           label = 'Val Error')\n",
    "  plt.ylim([0,5])\n",
    "  plt.legend()\n",
    "  \n",
    "  plt.figure()\n",
    "  plt.xlabel('Epoch')\n",
    "  plt.ylabel('Mean Square Error [$BlkCarbon^2$]')\n",
    "  plt.plot(hist['epoch'], hist['mean_squared_error'],\n",
    "           label='Train Error')\n",
    "  plt.plot(hist['epoch'], hist['val_mean_squared_error'],\n",
    "           label = 'Val Error')\n",
    "  plt.ylim([0,20])\n",
    "  plt.legend()\n",
    "  plt.show()\n",
    "\n",
    "\n",
    "plot_history(history)"
   ]
  },
  {
   "cell_type": "markdown",
   "metadata": {},
   "source": [
    "If there is not much training data, one technique is to prefer a small network with few hidden layers to avoid overfitting.\n",
    "Early stopping is a useful technique to prevent overfitting."
   ]
  },
  {
   "cell_type": "code",
   "execution_count": 157,
   "metadata": {},
   "outputs": [
    {
     "name": "stdout",
     "output_type": "stream",
     "text": [
      "\n",
      "................................................."
     ]
    },
    {
     "data": {
      "image/png": "[encoded data removed]",
      "text/plain": [
       "<Figure size 432x288 with 1 Axes>"
      ]
     },
     "metadata": {},
     "output_type": "display_data"
    },
    {
     "data": {
      "image/png": "[encoded data removed]",
      "text/plain": [
       "<Figure size 432x288 with 1 Axes>"
      ]
     },
     "metadata": {},
     "output_type": "display_data"
    }
   ],
   "source": [
    "model = build_model()\n",
    "\n",
    "# The patience parameter is the amount of epochs to check for improvement\n",
    "early_stop = keras.callbacks.EarlyStopping(monitor='val_loss', patience=7)\n",
    "\n",
    "history = model.fit(normed_train_data, train_labels, epochs=EPOCHS,\n",
    "                    validation_split = 0.2, verbose=0, callbacks=[early_stop, PrintDot()])\n",
    "\n",
    "plot_history(history)"
   ]
  },
  {
   "cell_type": "markdown",
   "metadata": {},
   "source": [
    "This graph shows little improvement, or even degradation in the validation error after about 100 epochs. Let's update the model.fit call to automatically stop training when the validation score doesn't improve. We'll use an EarlyStopping callback that tests a training condition for every epoch. If a set amount of epochs elapses without showing improvement, then automatically stop the training."
   ]
  },
  {
   "cell_type": "markdown",
   "metadata": {},
   "source": [
    "Let's see how well the model generalizes by using the test set, which we did not use when training the model. This tells us how well we can expect the model to predict when we use it in the real world.\n",
    "Evaluation metrics used for regression differ from classification. A common regression metric is Mean Absolute Error (MAE)"
   ]
  },
  {
   "cell_type": "code",
   "execution_count": 158,
   "metadata": {},
   "outputs": [
    {
     "name": "stdout",
     "output_type": "stream",
     "text": [
      "Testing set Mean Abs Error:  3.34 BlkCarbon\n"
     ]
    }
   ],
   "source": [
    "loss, mae, mse = model.evaluate(normed_test_data, test_labels, verbose=0)\n",
    "\n",
    "print(\"Testing set Mean Abs Error: {:5.2f} BlkCarbon\".format(mae))"
   ]
  },
  {
   "cell_type": "markdown",
   "metadata": {},
   "source": [
    "## Make Predictions\n",
    "\n",
    "Finally, predict BlkCarbon values using data in the testing set:"
   ]
  },
  {
   "cell_type": "code",
   "execution_count": 163,
   "metadata": {},
   "outputs": [
    {
     "data": {
      "image/png": "[encoded data removed]",
      "text/plain": [
       "<Figure size 432x288 with 1 Axes>"
      ]
     },
     "metadata": {},
     "output_type": "display_data"
    }
   ],
   "source": [
    "test_predictions = model.predict(normed_test_data).flatten()\n",
    "\n",
    "plt.scatter(test_labels, test_predictions)\n",
    "plt.xlabel('True Values [BlkCarbon]')\n",
    "plt.ylabel('Predictions [BlkCarbon]')\n",
    "plt.axis('equal')\n",
    "plt.axis('square')\n",
    "plt.xlim([0,plt.xlim()[1]])\n",
    "plt.ylim([0,plt.ylim()[1]])\n",
    "_ = plt.plot([-100, 100], [-100, 100])"
   ]
  },
  {
   "cell_type": "markdown",
   "metadata": {},
   "source": [
    "Let's take a look at the error distribution."
   ]
  },
  {
   "cell_type": "code",
   "execution_count": 160,
   "metadata": {},
   "outputs": [
    {
     "data": {
      "image/png": "[encoded data removed]",
      "text/plain": [
       "<Figure size 432x288 with 1 Axes>"
      ]
     },
     "metadata": {},
     "output_type": "display_data"
    }
   ],
   "source": [
    "error = test_predictions - test_labels\n",
    "plt.hist(error, bins = 25)\n",
    "plt.xlabel(\"Prediction Error [BlkCarbon]\")\n",
    "_ = plt.ylabel(\"Count\")"
   ]
  },
  {
   "cell_type": "code",
   "execution_count": null,
   "metadata": {},
   "outputs": [],
   "source": []
  }
 ],
 "metadata": {
  "kernelspec": {
   "display_name": "Python 3",
   "language": "python",
   "name": "python3"
  },
  "language_info": {
   "codemirror_mode": {
    "name": "ipython",
    "version": 3
   },
   "file_extension": ".py",
   "mimetype": "text/x-python",
   "name": "python",
   "nbconvert_exporter": "python",
   "pygments_lexer": "ipython3",
   "version": "3.6.5"
  }
 },
 "nbformat": 4,
 "nbformat_minor": 2
}
