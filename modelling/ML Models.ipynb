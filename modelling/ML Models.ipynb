{
 "cells": [
  {
   "cell_type": "code",
   "execution_count": 1,
   "metadata": {},
   "outputs": [],
   "source": [
    "import numpy as np\n",
    "import os\n",
    "import json\n",
    "import math\n",
    "import csv\n",
    "import collections\n",
    "from collections import defaultdict\n",
    "import pandas as pd\n",
    "import scipy as scipy\n",
    "from scipy.stats import pearsonr\n",
    "from sklearn.pipeline import Pipeline, make_pipeline\n",
    "from sklearn.naive_bayes import MultinomialNB\n",
    "from sklearn.linear_model import LogisticRegression\n",
    "from sklearn.model_selection import train_test_split\n",
    "from sklearn.ensemble import RandomForestClassifier\n",
    "from sklearn.ensemble import RandomForestRegressor\n",
    "from sklearn.linear_model import LinearRegression\n",
    "from sklearn.svm import SVC\n",
    "#from sklearn.metrics import accuracy_score\n",
    "from sklearn import metrics\n",
    "from sklearn.model_selection import GridSearchCV"
   ]
  },
  {
   "cell_type": "code",
   "execution_count": null,
   "metadata": {},
   "outputs": [],
   "source": [
    "#df = pd.read_csv('HKLURDataset.xlsx')\n",
    "df = pd.read_csv('data.csv')\n",
    "\n",
    "#print(df['Long'])\n",
    "#pollutant = df['PM2.5'].values\n",
    "#pollutant = df['NO2.ugm3'].values\n",
    "#pollutant = df['NO.ugm3'].values\n",
    "pollutant = df['BlkCarbon'].values\n",
    "\n",
    "#feature = df['MiniBusD.2000'].values\n",
    "#feature = df['Rest.1000'].values\n",
    "feature = df['Eat.500'].values\n",
    "\n",
    "x = []\n",
    "y = []\n",
    "for i in range(len(pollutant)):\n",
    "    if not math.isnan(pollutant[i]): \n",
    "        #print(i)\n",
    "        x.append(feature[i])\n",
    "        y.append(pollutant[i])\n",
    "        df.drop(df.index[i])\n"
   ]
  },
  {
   "cell_type": "code",
   "execution_count": null,
   "metadata": {},
   "outputs": [],
   "source": [
    "r_row, p_value = pearsonr(x, y)\n",
    "print(r_row**2)"
   ]
  },
  {
   "cell_type": "code",
   "execution_count": null,
   "metadata": {},
   "outputs": [],
   "source": [
    "slope, intercept, r_value, p_value, std_err = scipy.stats.linregress(x, y)\n",
    "\n",
    "print(r_value**2)"
   ]
  },
  {
   "cell_type": "markdown",
   "metadata": {},
   "source": [
    "<h3> Linear Regression </h3>"
   ]
  },
  {
   "cell_type": "code",
   "execution_count": null,
   "metadata": {},
   "outputs": [],
   "source": [
    "df = df[np.isfinite(df['BlkCarbon'])]\n",
    "\n",
    "X = df[['ExpRL.3000', 'ExpRL.50', 'Long', 'CarPD.50', 'ComT.500', 'ResT.50', 'MixT.500', 'Eat.500']]\n",
    "# Note that 'Lands.500' is not in dataset\n",
    "#print(X.head)\n",
    "y = df[['BlkCarbon']]"
   ]
  },
  {
   "cell_type": "code",
   "execution_count": null,
   "metadata": {},
   "outputs": [],
   "source": [
    "X_train, X_test, y_train, y_test = train_test_split(X, y, test_size=0.20, random_state=1)\n",
    "\n",
    "linearRegressor = LinearRegression()\n",
    "linearRegressor.fit(X_train, y_train)\n",
    "y_prediction = linearRegressor.predict(X_test)"
   ]
  },
  {
   "cell_type": "code",
   "execution_count": null,
   "metadata": {},
   "outputs": [],
   "source": [
    "\n",
    "#metrics.accuracy_score(y_test.values, y_prediction) # only works for classification\n",
    "\n",
    "#print(y_test.values)\n",
    "#print(y_prediction)\n",
    "\n",
    "#linearRegressor.score(y_test.values, y_prediction)\n",
    "print(metrics.mean_squared_error(y_test.values, y_prediction))\n",
    "print(metrics.mean_absolute_error(y_test.values, y_prediction))\n",
    "print(np.sqrt(metrics.mean_squared_error(y_test.values, y_prediction)))\n",
    "#metrics.explained_variance_score(y_test.values, y_prediction) # this might give r squared value\n",
    "#r_row, p_value = pearsonr(y_test.values, y_prediction)\n",
    "#print(r_row**2)"
   ]
  },
  {
   "cell_type": "markdown",
   "metadata": {},
   "source": [
    "### Random Forest"
   ]
  },
  {
   "cell_type": "code",
   "execution_count": 11,
   "metadata": {},
   "outputs": [
    {
     "name": "stdout",
     "output_type": "stream",
     "text": [
      "Basic Model Performance\n",
      "MAE: 4.5903\n",
      "(MAPE) Accuracy = 55.72%\n",
      "MSE: 37.1837\n",
      "RMSE: 6.0978\n"
     ]
    },
    {
     "data": {
      "image/png": "[encoded data removed]",
      "text/plain": [
       "<Figure size 1080x720 with 1 Axes>"
      ]
     },
     "metadata": {},
     "output_type": "display_data"
    }
   ],
   "source": [
    "from sklearn.ensemble import RandomForestRegressor\n",
    "from sklearn.metrics import accuracy_score\n",
    "import matplotlib.pyplot as plt\n",
    "#df1=pd.read_csv('HKLURDataset.csv')\n",
    "#df1 = df1[np.isfinite(df1['PM2.5'])]\n",
    "#pollutant_pred = df1['PM2.5'].values\n",
    "#df2=pd.read_csv('HKLURDataset.csv')\n",
    "#df2 = df2[np.isfinite(df2['PM2.5'])]\n",
    "#del df2['BlkCarbon']\n",
    "#del df2['SiteID']\n",
    "#del df2['FlightRouteBuf']\n",
    "#del df2['NO2.ugm3']\n",
    "#del df2['NO.ugm3']\n",
    "#del df2['PM2.5.SC1']\n",
    "#del df2['PM2.5.SC2']\n",
    "#del df2['PM2.5']\n",
    "\n",
    "#X = df2\n",
    "#y = df1[['PM2.5']]\n",
    "#y = np.ravel(y)\n",
    "\n",
    "df_Xtrain=pd.read_csv('BlkCarbon-Train.csv')\n",
    "del df_Xtrain['Index']\n",
    "del df_Xtrain['BlkCarbon']\n",
    "del df_Xtrain['SiteID']\n",
    "del df_Xtrain['FlightRouteBuf']\n",
    "del df_Xtrain['NO2.ugm3']\n",
    "del df_Xtrain['NO.ugm3']\n",
    "del df_Xtrain['PM2.5.SC1']\n",
    "del df_Xtrain['PM2.5.SC2']\n",
    "del df_Xtrain['PM2.5']\n",
    "\n",
    "df_ytrain=pd.read_csv('BlkCarbon-Train.csv')\n",
    "\n",
    "df_Xtest=pd.read_csv('BlkCarbon-Test.csv')\n",
    "del df_Xtest['Index']\n",
    "del df_Xtest['BlkCarbon']\n",
    "del df_Xtest['SiteID']\n",
    "del df_Xtest['FlightRouteBuf']\n",
    "del df_Xtest['NO2.ugm3']\n",
    "del df_Xtest['NO.ugm3']\n",
    "del df_Xtest['PM2.5.SC1']\n",
    "del df_Xtest['PM2.5.SC2']\n",
    "del df_Xtest['PM2.5']\n",
    "\n",
    "df_ytest=pd.read_csv('BlkCarbon-Test.csv')\n",
    "\n",
    "#X_train, X_test, y_train, y_test = train_test_split(X, y, test_size=0.20, random_state=1)\n",
    "\n",
    "X_train = df_Xtrain\n",
    "y_train = df_ytrain[['BlkCarbon']]\n",
    "y_train = np.ravel(y_train)\n",
    "X_test = df_Xtest\n",
    "y_test = df_ytest[['BlkCarbon']]\n",
    "y_test = np.ravel(y_test)\n",
    "\n",
    "basic = RandomForestRegressor(max_depth=2, n_estimators = 1000, random_state = 42)\n",
    "basic.fit(X_train, y_train)\n",
    "predictions_basic = basic.predict(X_test)\n",
    "\n",
    "errors_basic = abs(predictions_basic - y_test)\n",
    "mape_basic = 100 * np.mean(errors_basic / y_test)\n",
    "accuracy_basic = 100 - mape_basic\n",
    "squared_errors_basic = (errors_basic**2)\n",
    "print('Basic Model Performance')\n",
    "print('MAE: {:0.4f}'.format(np.mean(errors_basic)))\n",
    "print('(MAPE) Accuracy = {:0.2f}%'.format(accuracy_basic))\n",
    "print('MSE: {:0.4f}'.format(np.mean(squared_errors_basic)))\n",
    "print('RMSE: {:0.4f}'.format(np.sqrt(np.mean(squared_errors_basic))))\n",
    "\n",
    "importance = basic.feature_importances_\n",
    "feature_importances = pd.DataFrame(importance, index = X_train.columns, columns=['importance']).sort_values('importance', ascending=False)\n",
    "feature_importances.to_csv(\"Feature-Importance-BlkCarbon.csv\", sep=',')\n",
    "feature_importances[\"Std\"] = np.std([tree.feature_importances_\n",
    "                            for tree in basic.estimators_], axis=0)\n",
    "x1 = range(feature_importances.shape[0])\n",
    "y1 = feature_importances.iloc[:, 0]\n",
    "yerr1 = feature_importances.iloc[:, 1]\n",
    "plt.figure(figsize=(15,10))\n",
    "plt.bar(x1, y1, yerr=yerr1, align=\"center\")\n",
    "plt.show()"
   ]
  },
  {
   "cell_type": "markdown",
   "metadata": {},
   "source": [
    "### Random Forest hyperparameter tuning"
   ]
  },
  {
   "cell_type": "code",
   "execution_count": null,
   "metadata": {},
   "outputs": [],
   "source": [
    "from sklearn.model_selection import RandomizedSearchCV\n",
    "import numpy as np\n",
    "\n",
    "grid_search_params = {'bootstrap': [True],\n",
    "     'max_depth': [int(x) for x in np.linspace(10, 100, num = 10)],\n",
    "     'max_features': ['auto', 'sqrt'],\n",
    "     'min_samples_leaf': [1, 2, 4],\n",
    "     'min_samples_split': [2, 5, 10],\n",
    "     'n_estimators': [int(x) for x in np.linspace(start = 200, stop = 2000, num = 10)]}\n",
    "\n",
    "#print(grid_search_params)\n",
    "\n",
    "rf = RandomForestRegressor()\n",
    "\n",
    "grid_search = GridSearchCV(estimator=rf, param_grid=grid_search_params, cv=3, n_jobs=-1, verbose=2)\n",
    "\n",
    "grid_search.fit(X_train, y_train)\n",
    "\n",
    "#print(grid_search.best_params_)\n",
    "\n",
    "best_grid = grid_search.best_estimator_\n",
    "#print(best_grid)"
   ]
  },
  {
   "cell_type": "code",
   "execution_count": null,
   "metadata": {},
   "outputs": [],
   "source": [
    "print(grid_search.best_params_)\n",
    "\n",
    "print(best_grid)\n",
    "\n",
    "predictions_rf = grid_search.predict(X_test)\n",
    "\n",
    "errors_rf = abs(predictions_rf - y_test)\n",
    "mape_rf = 100 * np.mean(errors_rf / y_test)\n",
    "accuracy_rf = 100 - mape_rf\n",
    "squared_errors_rf = (errors_rf**2)\n",
    "\n",
    "print('RF Model with hyperparameter tuning Performance')\n",
    "print('MAE: {:0.4f}'.format(np.mean(errors_rf)))\n",
    "print('(MAPE) Accuracy = {:0.2f}%.'.format(accuracy_rf))\n",
    "print('MSE: {:0.4f}'.format(np.mean(squared_errors_rf)))\n",
    "\n",
    "importance = grid_search.best_estimator_.feature_importances_\n",
    "feature_importances_grid = pd.DataFrame(importance, index = X_train.columns, columns=['importance']).sort_values('importance', ascending=False)\n",
    "print(feature_importances_grid)\n",
    "feature_importances_grid[\"Std\"] = np.std([tree.feature_importances_\n",
    "                            for tree in basic.estimators_], axis=0)\n",
    "x1 = range(feature_importances_grid.shape[0])\n",
    "y1 = feature_importances_grid.iloc[:, 0]\n",
    "yerr1 = feature_importances_grid.iloc[:, 1]\n",
    "plt.figure(figsize=(15,10))\n",
    "plt.bar(x1, y1, yerr=yerr1, align=\"center\")\n",
    "plt.show()"
   ]
  },
  {
   "cell_type": "code",
   "execution_count": null,
   "metadata": {},
   "outputs": [],
   "source": []
  }
 ],
 "metadata": {
  "kernelspec": {
   "display_name": "Python 3",
   "language": "python",
   "name": "python3"
  },
  "language_info": {
   "codemirror_mode": {
    "name": "ipython",
    "version": 3
   },
   "file_extension": ".py",
   "mimetype": "text/x-python",
   "name": "python",
   "nbconvert_exporter": "python",
   "pygments_lexer": "ipython3",
   "version": "3.6.8"
  }
 },
 "nbformat": 4,
 "nbformat_minor": 2
}
